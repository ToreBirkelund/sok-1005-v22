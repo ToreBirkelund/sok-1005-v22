{
 "cells": [
  {
   "cell_type": "code",
   "execution_count": 2,
   "metadata": {},
   "outputs": [],
   "source": [
    "#pakker\n",
    "import blotto\n",
    "import numpy as np\n",
    "\n",
    "#Samarbeid: Kenneth Benonisen, Tore Birkelund.\n",
    "#"
   ]
  },
  {
   "cell_type": "code",
   "execution_count": 4,
   "metadata": {},
   "outputs": [],
   "source": [
    "def player_strategy(n_battalions,n_fields):\n",
    "    battalions = np.random.multinomial(100, [3/20, 3/20, 4/20, 5/20, 5/20, 0/20], size = 1)[0] # oppretter spesifik spill stratergi og fordeler det ut i et array\n",
    "\n",
    "    battalions_placement = [] # oppretter liste\n",
    "\n",
    "    for i in battalions: # Oppretter en for loop for spiller stratergi som skal fylle listen. \n",
    "        sum_battalions = sum(battalions)\n",
    "        random_choice = int(round(i / sum_battalions * 100,0))\n",
    "        battalions_placement.append(random_choice)\n",
    "\n",
    "    battalions_placement=battalions[np.random.rand(n_fields).argsort()] # rokkerer stratergien tilfeldig ut på feltet. \n",
    "    assert sum(battalions_placement)==n_battalions\n",
    "    return battalions_placement\n",
    "\n",
    "def computer_strategy(n_battalions, n_fields):\n",
    "    battalions = np.random.multinomial(100, np.ones(n_fields)/n_fields, size = 1)[0]\n",
    "\n",
    "    battalions_placement = []\n",
    "\n",
    "    for i in battalions:\n",
    "        sum_battalions = sum(battalions)\n",
    "        random_choice = int(round(i / sum_battalions * 100,0))\n",
    "        battalions_placement.append(random_choice)\n",
    "        \n",
    "    battalions_placement=battalions[np.random.rand(n_fields).argsort()]\n",
    "    assert sum(battalions_placement)==n_battalions\n",
    "    return battalions_placement"
   ]
  },
  {
   "cell_type": "code",
   "execution_count": 3,
   "metadata": {},
   "outputs": [],
   "source": [
    "def call_battle(n_battalions,n_fields, player_strategy, computer_strategy):\n",
    "    c_battlions=computer_strategy(n_battalions,n_fields)\n",
    "    p_battlions=player_strategy(n_battalions,n_fields)\n",
    "\n",
    "    diff=p_battlions-c_battlions\n",
    "    points=sum(diff>0)-sum(diff<0)\n",
    " \n",
    "    return int(points>0)-int(points<0)\n",
    "\n",
    "def test_strategies(n_fields,n_battalions,player_strategy, computer_strategy):\n",
    "    n_tests=100000\n",
    "    r=0\n",
    "    record=[]\n",
    "    for i in range(n_tests):\n",
    "        p=call_battle(n_battalions,n_fields,\n",
    "            player_strategy, computer_strategy)\n",
    "        record.append(p)\n",
    "        r+=p\n",
    "    return r/n_tests"
   ]
  },
  {
   "cell_type": "code",
   "execution_count": 4,
   "metadata": {},
   "outputs": [
    {
     "data": {
      "text/plain": [
       "0.33299"
      ]
     },
     "execution_count": 4,
     "metadata": {},
     "output_type": "execute_result"
    }
   ],
   "source": [
    "test_strategies(6,100,player_strategy, computer_strategy)"
   ]
  },
  {
   "cell_type": "code",
   "execution_count": 6,
   "metadata": {},
   "outputs": [
    {
     "data": {
      "text/plain": [
       "<blotto.run object .>"
      ]
     },
     "execution_count": 6,
     "metadata": {},
     "output_type": "execute_result"
    }
   ],
   "source": [
    "blotto.run(6,100, player_strategy, computer_strategy) # ser ut til at det er bug med poeng summering og plassering av stridsvognene etter reset. "
   ]
  }
 ],
 "metadata": {
  "interpreter": {
   "hash": "2c65d3151ad0de6b17458fb6bcecd039a1c5cd7d282ba15612c438970c3b92e8"
  },
  "kernelspec": {
   "display_name": "Python 3.9.7 64-bit",
   "language": "python",
   "name": "python3"
  },
  "language_info": {
   "codemirror_mode": {
    "name": "ipython",
    "version": 3
   },
   "file_extension": ".py",
   "mimetype": "text/x-python",
   "name": "python",
   "nbconvert_exporter": "python",
   "pygments_lexer": "ipython3",
   "version": "3.9.7"
  },
  "orig_nbformat": 4
 },
 "nbformat": 4,
 "nbformat_minor": 2
}
